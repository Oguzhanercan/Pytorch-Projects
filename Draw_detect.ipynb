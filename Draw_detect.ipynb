{
 "cells": [
  {
   "cell_type": "code",
   "execution_count": 1,
   "metadata": {},
   "outputs": [],
   "source": [
    "import numpy as np\n",
    "import cv2\n",
    "import torch\n",
    "from torch import nn\n",
    "from torch import optim\n",
    "import torch.nn.functional as F\n",
    "from torchvision import datasets, transforms, models\n",
    "from torch.utils.data.sampler import SubsetRandomSampler\n",
    "import matplotlib.pyplot as plt\n",
    "%matplotlib inline\n"
   ]
  },
  {
   "cell_type": "markdown",
   "metadata": {},
   "source": [
    "# Drawing a number"
   ]
  },
  {
   "cell_type": "markdown",
   "metadata": {},
   "source": [
    "When we run this cell we will be able to draw a shape.We are drawing a number (0,9)."
   ]
  },
  {
   "cell_type": "code",
   "execution_count": 15,
   "metadata": {},
   "outputs": [],
   "source": [
    "\n",
    "drawing = False\n",
    "showing = 1\n",
    "new_image = np.zeros((500,500,3),np.float32)\n",
    "\n",
    "def draw(event,x,y,flags,param):\n",
    "    \n",
    "    global showing,drawing,new_image\n",
    "    \n",
    "    if event == cv2.EVENT_LBUTTONDOWN:\n",
    "        drawing = True\n",
    "    \n",
    "    elif event == cv2.EVENT_MOUSEMOVE:\n",
    "        if drawing == True:\n",
    "            cv2.circle(img,center = (x,y), radius = 8 , color = (255,255,0), thickness = -1) # if thickness == 1 it fill up\n",
    "            \n",
    "    elif event == cv2.EVENT_LBUTTONUP:\n",
    "        drawing = False\n",
    "        \n",
    "    elif event == cv2.EVENT_RBUTTONDOWN:\n",
    "        new_image = img\n",
    "        showing = 0\n",
    "        \n",
    "        return new_image\n",
    "        \n",
    "cv2.namedWindow(winname = \"draw\")\n",
    "cv2.setMouseCallback(\"draw\",draw)\n",
    "\n",
    "\n",
    "\n",
    "\n",
    "\n",
    "\n",
    "img = np.zeros((500,500,3),np.float32)\n",
    "\n",
    "\n",
    "\n",
    "while showing == 1: \n",
    "    cv2.imshow(\"draw\",img)\n",
    "    if cv2.waitKey(20) & 0xFF == 27:\n",
    "        \n",
    "        break\n",
    "        \n",
    "cv2.destroyAllWindows()"
   ]
  },
  {
   "cell_type": "code",
   "execution_count": 16,
   "metadata": {
    "scrolled": true
   },
   "outputs": [
    {
     "name": "stderr",
     "output_type": "stream",
     "text": [
      "Clipping input data to the valid range for imshow with RGB data ([0..1] for floats or [0..255] for integers).\n"
     ]
    },
    {
     "data": {
      "text/plain": [
       "<matplotlib.image.AxesImage at 0x1bf906f01d0>"
      ]
     },
     "execution_count": 16,
     "metadata": {},
     "output_type": "execute_result"
    },
    {
     "data": {
      "image/png": "[encoded data removed]",
      "text/plain": [
       "<Figure size 432x288 with 1 Axes>"
      ]
     },
     "metadata": {},
     "output_type": "display_data"
    }
   ],
   "source": [
    "plt.imshow(new_image)\n",
    "#The shape we have drawn"
   ]
  },
  {
   "cell_type": "code",
   "execution_count": 17,
   "metadata": {},
   "outputs": [
    {
     "data": {
      "text/plain": [
       "<matplotlib.image.AxesImage at 0x1bf9072bbe0>"
      ]
     },
     "execution_count": 17,
     "metadata": {},
     "output_type": "execute_result"
    },
    {
     "data": {
      "image/png": "[encoded data removed]",
      "text/plain": [
       "<Figure size 432x288 with 1 Axes>"
      ]
     },
     "metadata": {},
     "output_type": "display_data"
    }
   ],
   "source": [
    "resized_img = cv2.resize(new_image,(28,28))\n",
    "resized_img = cv2.cvtColor(resized_img, cv2.COLOR_BGR2GRAY)\n",
    "plt.imshow(resized_img)\n",
    "#we have resized the image because shape of our dataset(mnist) is 28x28. Then we have converted the color to gray from BGR(blue,green,red)"
   ]
  },
  {
   "cell_type": "code",
   "execution_count": 18,
   "metadata": {},
   "outputs": [
    {
     "name": "stdout",
     "output_type": "stream",
     "text": [
      "<class 'torch.Tensor'>\n",
      "torch.Size([28, 28])\n"
     ]
    }
   ],
   "source": [
    "resized_img = torch.from_numpy(resized_img)\n",
    "\n",
    "print(type(resized_img))\n",
    "print(resized_img.shape)\n",
    "#we have converted the type of image from numpy array to pytorch tensor"
   ]
  },
  {
   "cell_type": "markdown",
   "metadata": {},
   "source": [
    "# Downloading and preparing dataset (mnist)"
   ]
  },
  {
   "cell_type": "code",
   "execution_count": 5,
   "metadata": {},
   "outputs": [],
   "source": [
    "\n",
    "\n",
    "mean = 0.1307\n",
    "std = 0.3081\n",
    "\n",
    "transform = transforms.Compose([transforms.ToTensor(),\n",
    "                                    transforms.Normalize((mean,),\n",
    "                                                            (std,))])\n",
    "\n",
    "trainset = datasets.MNIST(\"MNIST_data/\", download = True , train = True ,transform = transform)\n",
    "testset = datasets.MNIST(\"MNIST_data/\", download = True , train = False ,transform = transform)\n",
    "\n",
    "\n",
    "\n",
    "indices = list(range(len(trainset)))\n",
    "np.random.shuffle(indices)\n",
    "split = int(np.floor(0.2 * len(trainset))) #0.2 validation size\n",
    "train_idx, valid_idx = indices[split:], indices[:split]\n",
    "\n",
    "\n",
    "\n",
    "train_sampler = SubsetRandomSampler(train_idx)\n",
    "valid_sampler = SubsetRandomSampler(valid_idx)\n",
    "\n",
    "\n",
    "trainloader = torch.utils.data.DataLoader(trainset,batch_size = 64,sampler = train_sampler)\n",
    "validloader = torch.utils.data.DataLoader(trainset,batch_size = 64,sampler = valid_sampler)\n",
    "testloader = torch.utils.data.DataLoader(testset,batch_size = 64, shuffle = True)"
   ]
  },
  {
   "cell_type": "markdown",
   "metadata": {},
   "source": [
    "# Building The Neural Network Architecture"
   ]
  },
  {
   "cell_type": "markdown",
   "metadata": {},
   "source": [
    "There are two diffrent types of neural network below. Inside of the comment block the model is that fully connected neural network.\n",
    "The actual model is CNN (convolutional Neural Network). We should use CNN because it performs better than fully connected neural network on image dataset."
   ]
  },
  {
   "cell_type": "code",
   "execution_count": 9,
   "metadata": {},
   "outputs": [],
   "source": [
    "\"\"\"model = nn.Sequential(nn.Linear(784,128),\n",
    "                      nn.ReLU(),\n",
    "                      nn.Dropout(0.2),\n",
    "                     nn.Linear(128,64),\n",
    "                      nn.ReLU(),\n",
    "                      nn.Dropout(0.1),\n",
    "                      nn.Linear(64,10),\n",
    "                      nn.LogSoftmax(dim = 1))\n",
    "\n",
    "criterion = nn.NLLLoss()\n",
    "device = torch.device(\"cuda\" if torch.cuda.is_available() else \"cpu\")\n",
    "model.to(device)\n",
    "optimizer = optim.Adam(model.parameters(),lr = 0.01)\"\"\"\n",
    "\n",
    "\n",
    "\"\"\"\"\n",
    "\n",
    "class CNN(nn.Module):\n",
    "    def __init__(self):\n",
    "        super(CNN,self).__init__()\n",
    "        self.conv1 = nn.Conv2d(1, 8, 3, padding=1)\n",
    "        \n",
    "        self.conv2 = nn.Conv2d(8, 16, 3, padding=1)\n",
    "        \n",
    "        self.pool =nn.MaxPool2d(2,2)\n",
    "        \n",
    "        self.fc1 = nn.Linear(7*7*16,256)\n",
    "        \n",
    "        self.fc2 = nn.Linear(256,64)\n",
    "        \n",
    "        self.fc3 = nn.Linear(64,10)\n",
    "        \n",
    "        self.BN1 = nn.BatchNorm2d(8)\n",
    "        \n",
    "        self.BN2 = nn.BatchNorm2d(16)\n",
    "        \n",
    "    def forward(self,x):\n",
    "        \n",
    "        \n",
    "        x = self.pool(F.relu(self.BN1(self.conv1(x))))\n",
    "        \n",
    "        x = self.pool(F.relu(self.BN2(self.conv2(x))))\n",
    " \n",
    "        x = x.view(-1, 7 * 7 * 16)\n",
    "    \n",
    "        x = F.relu(self.fc1(x))\n",
    "        \n",
    "        x = F.relu(self.fc2(x))\n",
    "        \n",
    "        x = F.relu(self.fc3(x))\n",
    "        \n",
    "        return x\"\"\"\n",
    "\n",
    "\n",
    "class CNN(nn.Module):\n",
    "    \n",
    "    def __init__(self):\n",
    "            super(CNN,self).__init__()\n",
    "            \n",
    "            self.cnn1 = nn.Conv2d(in_channels=1, out_channels=8, kernel_size=3, stride=1, padding=1)\n",
    "            self.batch_norm1 = nn.BatchNorm2d(8) # feature map = 8\n",
    "        \n",
    "            self.cnn2 = nn.Conv2d(in_channels=8, out_channels=32, kernel_size=5, stride=1, padding=2)\n",
    "           \n",
    "            self.batch_norm2 = nn.BatchNorm2d(32) #feature map = 32\n",
    "            \n",
    "            self.fc1 = nn.Linear(7*7*32,600)\n",
    "            self.fc2 = nn.Linear(600,10)\n",
    "            \n",
    "            self.relu = nn.ReLU()\n",
    "            self.maxpool = nn.MaxPool2d(kernel_size = 2)\n",
    "\n",
    "    def forward(self,x):\n",
    "            out = self.cnn1(x)\n",
    "            out = self.batch_norm1(out)\n",
    "            out = self.relu(out)\n",
    "            out = self.maxpool(out)\n",
    "            out = self.cnn2(out)\n",
    "            out = self.batch_norm2(out)\n",
    "            out = self.relu(out)\n",
    "            out = self.maxpool(out)\n",
    "            # flattening:\n",
    "            out = out.view(-1,1568)\n",
    "            out = self.fc1(out)\n",
    "            out = self.relu(out)\n",
    "            out = self.fc2(out)\n",
    "            return out\n",
    "\n",
    "\n",
    "device = torch.device(\"cuda\" if torch.cuda.is_available() else \"cpu\")\n",
    "\n",
    "model = CNN().to(device)\n",
    "\n",
    "criterion = nn.CrossEntropyLoss()\n",
    "\n",
    "optimizer = optim.Adam(model.parameters(), lr=0.01)"
   ]
  },
  {
   "cell_type": "markdown",
   "metadata": {},
   "source": [
    "# Training the model on the training set and choosing the best parameters by using the validation set"
   ]
  },
  {
   "cell_type": "markdown",
   "metadata": {},
   "source": [
    "Again there are 2 different types of way to train the models. One of them is for fully connected neural network and the other one is for CNN."
   ]
  },
  {
   "cell_type": "code",
   "execution_count": 10,
   "metadata": {},
   "outputs": [
    {
     "name": "stdout",
     "output_type": "stream",
     "text": [
      "Epoch: 1 \tTraining Loss: 0.450298 \tValidation Loss: 0.090914\n",
      "Validation loss decreased (inf --> 0.090914).  Saving model ...\n",
      "Epoch: 2 \tTraining Loss: 0.070974 \tValidation Loss: 0.095294\n",
      "Epoch: 3 \tTraining Loss: 0.051506 \tValidation Loss: 0.062060\n",
      "Validation loss decreased (0.090914 --> 0.062060).  Saving model ...\n",
      "Epoch: 4 \tTraining Loss: 0.043930 \tValidation Loss: 0.051119\n",
      "Validation loss decreased (0.062060 --> 0.051119).  Saving model ...\n",
      "Epoch: 5 \tTraining Loss: 0.036472 \tValidation Loss: 0.056859\n",
      "Epoch: 6 \tTraining Loss: 0.034323 \tValidation Loss: 0.062366\n",
      "Epoch: 7 \tTraining Loss: 0.031190 \tValidation Loss: 0.068888\n",
      "Epoch: 8 \tTraining Loss: 0.027700 \tValidation Loss: 0.059696\n",
      "Epoch: 9 \tTraining Loss: 0.026937 \tValidation Loss: 0.062949\n",
      "Epoch: 10 \tTraining Loss: 0.026725 \tValidation Loss: 0.089331\n"
     ]
    }
   ],
   "source": [
    "\"\"\"\"epochs = 6\n",
    "\n",
    "valid_loss_min = np.Inf\n",
    "\n",
    "for e in range(epochs):\n",
    "    train_loss = 0\n",
    "    valid_loss = 0\n",
    "    \n",
    "    model.train()\n",
    "    for images,labels in trainloader:\n",
    "        \n",
    "        images, labels = images.to(device), labels.to(device)\n",
    "\n",
    "        \n",
    "        \n",
    "        \n",
    "        log_ps = model(images)\n",
    "\n",
    "        loss = criterion(log_ps,labels)\n",
    "        \n",
    "        optimizer.zero_grad()\n",
    "        loss.backward()\n",
    "        optimizer.step()\n",
    "        \n",
    "        train_loss += loss.item()\n",
    "        \n",
    "    model.eval() \n",
    "    for images, labels in validloader:\n",
    "        \n",
    "        images, labels = images.to(device), labels.to(device)\n",
    "        images = images.view(images.shape[0], -1)\n",
    "\n",
    "        output = model(images)\n",
    "        loss = criterion(output, labels)\n",
    "        valid_loss += loss.item()\n",
    "        \n",
    "    \n",
    "    train_loss = train_loss/len(trainloader)\n",
    "    valid_loss = valid_loss/len(validloader)\n",
    "    \n",
    "    print('Epoch: {} \\tTraining Loss: {:.6f} \\tValidation Loss: {:.6f}'.format(\n",
    "        e+1, \n",
    "        train_loss,\n",
    "        valid_loss\n",
    "        ))\n",
    "    \n",
    "    # save model if validation loss has decreased\n",
    "    if valid_loss <= valid_loss_min:\n",
    "        print('Validation loss decreased ({:.6f} --> {:.6f}).  Saving model ...'.format(\n",
    "        valid_loss_min,\n",
    "        valid_loss))\n",
    "        torch.save(model.state_dict(), 'model.pt')\n",
    "        valid_loss_min = valid_loss\"\"\"\n",
    "\n",
    "n_epochs = 10\n",
    "\n",
    "valid_loss_min = np.Inf # track change in validation loss\n",
    "for epoch in range(1, n_epochs+1):\n",
    "\n",
    "    # keep track of training and validation loss\n",
    "    train_loss = 0.0\n",
    "    valid_loss = 0.0\n",
    "    \n",
    "    ###################\n",
    "    # train the model #\n",
    "    ###################\n",
    "    model.train()\n",
    "    for data, target in trainloader:\n",
    "        # move tensors to GPU if CUDA is available\n",
    "       \n",
    "        data, target = data.cuda(), target.cuda()\n",
    "        # clear the gradients of all optimized variables\n",
    "        optimizer.zero_grad()\n",
    "        # forward pass: compute predicted outputs by passing inputs to the model\n",
    "        output = model(data)\n",
    "        # calculate the batch loss\n",
    "        loss = criterion(output, target)\n",
    "        # backward pass: compute gradient of the loss with respect to model parameters\n",
    "        loss.backward()\n",
    "        # perform a single optimization step (parameter update)\n",
    "        optimizer.step()\n",
    "        # update training loss\n",
    "        train_loss += loss.item()*data.size(0)\n",
    "        \n",
    "    ######################    \n",
    "    # validate the model #\n",
    "    ######################\n",
    "    model.eval()\n",
    "    for data, target in validloader:\n",
    "        # move tensors to GPU if CUDA is available\n",
    "        \n",
    "        data, target = data.cuda(), target.cuda()\n",
    "        # forward pass: compute predicted outputs by passing inputs to the model\n",
    "        output = model(data)\n",
    "        # calculate the batch loss\n",
    "        loss = criterion(output, target)\n",
    "        # update average validation loss \n",
    "        valid_loss += loss.item()*data.size(0)\n",
    "    \n",
    "    # calculate average losses\n",
    "    train_loss = train_loss/len(trainloader.sampler)\n",
    "    valid_loss = valid_loss/len(validloader.sampler)\n",
    "        \n",
    "    # print training/validation statistics \n",
    "    print('Epoch: {} \\tTraining Loss: {:.6f} \\tValidation Loss: {:.6f}'.format(\n",
    "        epoch, train_loss, valid_loss))\n",
    "    \n",
    "    # save model if validation loss has decreased\n",
    "    if valid_loss <= valid_loss_min:\n",
    "        print('Validation loss decreased ({:.6f} --> {:.6f}).  Saving model ...'.format(\n",
    "        valid_loss_min,\n",
    "        valid_loss))\n",
    "        torch.save(model.state_dict(), 'model.pt')\n",
    "        valid_loss_min = valid_loss"
   ]
  },
  {
   "cell_type": "code",
   "execution_count": 11,
   "metadata": {
    "scrolled": true
   },
   "outputs": [
    {
     "data": {
      "text/plain": [
       "<All keys matched successfully>"
      ]
     },
     "execution_count": 11,
     "metadata": {},
     "output_type": "execute_result"
    }
   ],
   "source": [
    "model.load_state_dict(torch.load('model.pt'))# saving the best model."
   ]
  },
  {
   "cell_type": "markdown",
   "metadata": {},
   "source": [
    "# Defining the number in the picture we draw"
   ]
  },
  {
   "cell_type": "code",
   "execution_count": 19,
   "metadata": {},
   "outputs": [
    {
     "name": "stdout",
     "output_type": "stream",
     "text": [
      "torch.Size([1, 1, 28, 28])\n",
      "tensor([[3]], device='cuda:0')\n"
     ]
    }
   ],
   "source": [
    "model.eval()\n",
    "with torch.no_grad():\n",
    "    resized_img = resized_img.to(device)\n",
    "    resized_img  = resized_img.view(1,1,28,28)\n",
    "    print(resized_img.shape)\n",
    "    \n",
    "    output = model(resized_img)\n",
    "\n",
    "    ps = torch.exp(output)\n",
    "    top_p, top_class = ps.topk(1, dim=1)\n",
    "    print(top_class)\n",
    "    "
   ]
  },
  {
   "cell_type": "code",
   "execution_count": null,
   "metadata": {},
   "outputs": [],
   "source": []
  }
 ],
 "metadata": {
  "kernelspec": {
   "display_name": "Python 3",
   "language": "python",
   "name": "python3"
  },
  "language_info": {
   "codemirror_mode": {
    "name": "ipython",
    "version": 3
   },
   "file_extension": ".py",
   "mimetype": "text/x-python",
   "name": "python",
   "nbconvert_exporter": "python",
   "pygments_lexer": "ipython3",
   "version": "3.6.4"
  }
 },
 "nbformat": 4,
 "nbformat_minor": 2
}
